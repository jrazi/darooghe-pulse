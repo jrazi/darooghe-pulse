{
 "cells": [
  {
   "cell_type": "markdown",
   "id": "e4e6e7020784cbef",
   "metadata": {},
   "source": [
    "# Tests for Eevent Producer\n",
    "\n",
    "This notebook will contain some tests to assert that transactional events are produced with the expected patterns, and validate refinements made."
   ]
  },
  {
   "cell_type": "code",
   "execution_count": null,
   "id": "initial_id",
   "metadata": {
    "collapsed": true
   },
   "outputs": [],
   "source": [
    "## Non-Uniform Weights of Merchant Categories\n",
    "\n"
   ]
  },
  {
   "cell_type": "code",
   "id": "c09dd6df",
   "metadata": {
    "ExecuteTime": {
     "end_time": "2025-04-29T11:12:41.766683Z",
     "start_time": "2025-04-29T11:12:41.156418Z"
    }
   },
   "source": [
    "# Non-Uniform Weights For Payment Method\n",
    "\n",
    "import pulse.properties as properties\n",
    "from pulse.darooghe_pulse import generate_transaction_event\n",
    "from collections import Counter\n",
    "\n",
    "NUM_SAMPLES = 50000\n",
    "TOLERANCE = 0.05\n",
    "\n",
    "counts = Counter()\n",
    "for _ in range(NUM_SAMPLES):\n",
    "    ev = generate_transaction_event()\n",
    "    counts[ev[\"payment_method\"]] += 1\n",
    "\n",
    "total = sum(counts.values())\n",
    "\n",
    "for method, target_weight in properties.PAYMENT_METHOD_WEIGHTS.items():\n",
    "    observed = counts[method] / total\n",
    "    assert abs(observed - target_weight) <= TOLERANCE, (\n",
    "        f\"Method {method}: observed {observed:.3f}, target {target_weight:.3f}\"\n",
    "    )\n",
    "\n",
    "print(\"Payment method distribution test passed.\")\n"
   ],
   "outputs": [
    {
     "name": "stdout",
     "output_type": "stream",
     "text": [
      "Payment method distribution test passed.\n"
     ]
    }
   ],
   "execution_count": 1
  },
  {
   "cell_type": "code",
   "execution_count": null,
   "id": "c35660b2",
   "metadata": {},
   "outputs": [],
   "source": []
  }
 ],
 "metadata": {
  "kernelspec": {
   "display_name": "base",
   "language": "python",
   "name": "python3"
  },
  "language_info": {
   "codemirror_mode": {
    "name": "ipython",
    "version": 3
   },
   "file_extension": ".py",
   "mimetype": "text/x-python",
   "name": "python",
   "nbconvert_exporter": "python",
   "pygments_lexer": "ipython3",
   "version": "3.12.7"
  }
 },
 "nbformat": 4,
 "nbformat_minor": 5
}
