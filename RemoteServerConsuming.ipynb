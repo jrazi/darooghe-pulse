{
 "cells": [
  {
   "cell_type": "markdown",
   "id": "84bc8e2a1aca521",
   "metadata": {},
   "source": [
    "# Kafka Connection Demonstration\n",
    "\n",
    "This notebook demonstrates connecting to a Kafka broker, producing a test message, and consuming messages from a topic."
   ]
  },
  {
   "cell_type": "markdown",
   "id": "362c6440",
   "metadata": {},
   "source": [
    "## Server Info\n",
    "\n",
    "**IP**: 37.32.15.163\n",
    "\n",
    "**Kafka Instance Port**: 9092\n",
    "\n",
    "**Kafdrop Address**: http://37.32.15.163:9000/"
   ]
  },
  {
   "cell_type": "markdown",
   "id": "270dc655",
   "metadata": {},
   "source": [
    "## About Kafdrop\n",
    "\n",
    "Kafdrop is an open-source web UI that lets you browse and inspect your Kafka clusters with ease. It provides a graphical interface for viewing topics, partitions, and messages, as well as monitoring consumer groups and offsets. This tool is especially useful for troubleshooting and understanding the flow of data within your Kafka environment. You can access Kafdrop at [http://37.32.15.163:9000](http://37.32.15.163:9000)."
   ]
  },
  {
   "cell_type": "markdown",
   "id": "dbfb52e1",
   "metadata": {},
   "source": [
    "## Installing Dependencies"
   ]
  },
  {
   "cell_type": "code",
   "execution_count": 1,
   "id": "initial_id",
   "metadata": {
    "jupyter": {
     "is_executing": true
    }
   },
   "outputs": [
    {
     "name": "stdout",
     "output_type": "stream",
     "text": [
      "Requirement already satisfied: confluent-kafka in /opt/anaconda3/lib/python3.12/site-packages (2.10.0)\n",
      "Note: you may need to restart the kernel to use updated packages.\n"
     ]
    }
   ],
   "source": [
    "%pip install confluent-kafka"
   ]
  },
  {
   "cell_type": "markdown",
   "id": "e4be9f6b",
   "metadata": {},
   "source": [
    "## Import Libraries"
   ]
  },
  {
   "cell_type": "code",
   "execution_count": 2,
   "id": "7483cc046a426bd9",
   "metadata": {},
   "outputs": [],
   "source": [
    "import time\n",
    "from confluent_kafka import Consumer\n",
    "import uuid"
   ]
  },
  {
   "cell_type": "markdown",
   "id": "69316053",
   "metadata": {},
   "source": [
    "## Configuration\n",
    "\n",
    "We define the Kafka broker address and the topic name."
   ]
  },
  {
   "cell_type": "code",
   "execution_count": 3,
   "id": "a3375aa5",
   "metadata": {},
   "outputs": [],
   "source": [
    "broker = \"37.32.15.163:9092\"\n",
    "topic = \"darooghe.transactions\""
   ]
  },
  {
   "cell_type": "markdown",
   "id": "5b3ec016",
   "metadata": {},
   "source": [
    "## Consume Messages from the Topic\n",
    "\n",
    "This cell creates a Consumer, subscribes to the topic, and prints messages."
   ]
  },
  {
   "cell_type": "code",
   "execution_count": 4,
   "id": "d481c912",
   "metadata": {},
   "outputs": [
    {
     "data": {
      "text/plain": [
       "'{\"transaction_id\": \"b50e15ea-d541-4da6-bdfc-cee3e55c94d3\", \"timestamp\": \"2025-04-19T12:00:54.226594Z\", \"customer_id\": \"cust_275\", \"merchant_id\": \"merch_11\", \"merchant_category\": \"entertainment\", \"payment_method\": \"nfc\", \"amount\": 1963338, \"location\": {\"lat\": 35.69156425757014, \"lng\": 51.369795866111296}, \"device_info\": {}, \"status\": \"approved\", \"commission_type\": \"flat\", \"commission_amount\": 39266, \"vat_amount\": 176700, \"total_amount\": 2179304, \"customer_type\": \"business\", \"risk_level\": 3, \"failure_reason\": null}'"
      ]
     },
     "metadata": {},
     "output_type": "display_data"
    },
    {
     "data": {
      "text/plain": [
       "'{\"transaction_id\": \"88d6cf0d-7937-46ae-bef6-ea2dc83d1187\", \"timestamp\": \"2025-04-19T23:54:12.027688Z\", \"customer_id\": \"cust_629\", \"merchant_id\": \"merch_31\", \"merchant_category\": \"entertainment\", \"payment_method\": \"mobile\", \"amount\": 1768272, \"location\": {\"lat\": 35.69203050112859, \"lng\": 51.25767719095284}, \"device_info\": {\"os\": \"Android\", \"app_version\": \"2.4.1\", \"device_model\": \"Samsung Galaxy S25\"}, \"status\": \"approved\", \"commission_type\": \"flat\", \"commission_amount\": 35365, \"vat_amount\": 159144, \"total_amount\": 1962781, \"customer_type\": \"business\", \"risk_level\": 3, \"failure_reason\": null}'"
      ]
     },
     "metadata": {},
     "output_type": "display_data"
    },
    {
     "data": {
      "text/plain": [
       "'{\"transaction_id\": \"108f42ac-c68b-4367-ad3f-d5fc9b4a8577\", \"timestamp\": \"2025-04-19T04:31:36.427027Z\", \"customer_id\": \"cust_238\", \"merchant_id\": \"merch_18\", \"merchant_category\": \"government\", \"payment_method\": \"mobile\", \"amount\": 853642, \"location\": {\"lat\": 35.67131622275939, \"lng\": 51.32227278762287}, \"device_info\": {\"os\": \"Android\", \"app_version\": \"1.9.5\", \"device_model\": \"Google Pixel 6\"}, \"status\": \"approved\", \"commission_type\": \"flat\", \"commission_amount\": 17072, \"vat_amount\": 76827, \"total_amount\": 947541, \"customer_type\": \"business\", \"risk_level\": 1, \"failure_reason\": null}'"
      ]
     },
     "metadata": {},
     "output_type": "display_data"
    },
    {
     "data": {
      "text/plain": [
       "'{\"transaction_id\": \"e287ecc3-ae21-49ea-a5eb-b6b1ea64e68f\", \"timestamp\": \"2025-04-18T07:16:48.042515Z\", \"customer_id\": \"cust_310\", \"merchant_id\": \"merch_13\", \"merchant_category\": \"food_service\", \"payment_method\": \"mobile\", \"amount\": 915102, \"location\": {\"lat\": 35.775018226372005, \"lng\": 51.24516472779863}, \"device_info\": {\"os\": \"Android\", \"app_version\": \"2.4.1\", \"device_model\": \"Samsung Galaxy S25\"}, \"status\": \"approved\", \"commission_type\": \"flat\", \"commission_amount\": 18302, \"vat_amount\": 82359, \"total_amount\": 1015763, \"customer_type\": \"CIP\", \"risk_level\": 3, \"failure_reason\": null}'"
      ]
     },
     "metadata": {},
     "output_type": "display_data"
    },
    {
     "data": {
      "text/plain": [
       "'{\"transaction_id\": \"cc5aad54-9f0f-4f08-bad9-13629e5754b6\", \"timestamp\": \"2025-04-15T13:06:06.201027Z\", \"customer_id\": \"cust_390\", \"merchant_id\": \"merch_39\", \"merchant_category\": \"transportation\", \"payment_method\": \"nfc\", \"amount\": 623670, \"location\": {\"lat\": 35.65385421883466, \"lng\": 51.423646214500884}, \"device_info\": {}, \"status\": \"approved\", \"commission_type\": \"tiered\", \"commission_amount\": 12473, \"vat_amount\": 56130, \"total_amount\": 692273, \"customer_type\": \"individual\", \"risk_level\": 3, \"failure_reason\": null}'"
      ]
     },
     "metadata": {},
     "output_type": "display_data"
    },
    {
     "data": {
      "text/plain": [
       "'{\"transaction_id\": \"b09dc66b-5a67-4d5d-b987-017e2a54e611\", \"timestamp\": \"2025-04-17T17:49:54.152627Z\", \"customer_id\": \"cust_483\", \"merchant_id\": \"merch_39\", \"merchant_category\": \"government\", \"payment_method\": \"pos\", \"amount\": 831901, \"location\": {\"lat\": 35.65644319102983, \"lng\": 51.42367543934516}, \"device_info\": {}, \"status\": \"approved\", \"commission_type\": \"progressive\", \"commission_amount\": 16638, \"vat_amount\": 74871, \"total_amount\": 923410, \"customer_type\": \"individual\", \"risk_level\": 2, \"failure_reason\": null}'"
      ]
     },
     "metadata": {},
     "output_type": "display_data"
    },
    {
     "data": {
      "text/plain": [
       "'{\"transaction_id\": \"c6fb3334-574c-46be-acbc-2edafad1da9f\", \"timestamp\": \"2025-04-19T14:52:37.175100Z\", \"customer_id\": \"cust_49\", \"merchant_id\": \"merch_40\", \"merchant_category\": \"government\", \"payment_method\": \"mobile\", \"amount\": 648665, \"location\": {\"lat\": 35.64516787983575, \"lng\": 51.26328427162322}, \"device_info\": {\"os\": \"iOS\", \"app_version\": \"3.1.0\", \"device_model\": \"iPhone 15\"}, \"status\": \"approved\", \"commission_type\": \"flat\", \"commission_amount\": 12973, \"vat_amount\": 58379, \"total_amount\": 720017, \"customer_type\": \"individual\", \"risk_level\": 2, \"failure_reason\": null}'"
      ]
     },
     "metadata": {},
     "output_type": "display_data"
    },
    {
     "data": {
      "text/plain": [
       "'{\"transaction_id\": \"406a4621-6094-4a2c-a398-8875cdf2d248\", \"timestamp\": \"2025-04-19T15:01:28.369257Z\", \"customer_id\": \"cust_829\", \"merchant_id\": \"merch_41\", \"merchant_category\": \"entertainment\", \"payment_method\": \"nfc\", \"amount\": 326388, \"location\": {\"lat\": 35.681441980979656, \"lng\": 51.346704876369245}, \"device_info\": {}, \"status\": \"approved\", \"commission_type\": \"progressive\", \"commission_amount\": 6527, \"vat_amount\": 29374, \"total_amount\": 362289, \"customer_type\": \"individual\", \"risk_level\": 2, \"failure_reason\": null}'"
      ]
     },
     "metadata": {},
     "output_type": "display_data"
    },
    {
     "data": {
      "text/plain": [
       "'{\"transaction_id\": \"8ca56886-d03c-42c7-91fb-53d43efce925\", \"timestamp\": \"2025-04-16T20:03:03.768906Z\", \"customer_id\": \"cust_29\", \"merchant_id\": \"merch_25\", \"merchant_category\": \"transportation\", \"payment_method\": \"mobile\", \"amount\": 827521, \"location\": {\"lat\": 35.81398763338402, \"lng\": 51.39371017627287}, \"device_info\": {\"os\": \"Android\", \"app_version\": \"1.9.5\", \"device_model\": \"Google Pixel 6\"}, \"status\": \"approved\", \"commission_type\": \"progressive\", \"commission_amount\": 16550, \"vat_amount\": 74476, \"total_amount\": 918547, \"customer_type\": \"business\", \"risk_level\": 2, \"failure_reason\": null}'"
      ]
     },
     "metadata": {},
     "output_type": "display_data"
    },
    {
     "data": {
      "text/plain": [
       "'{\"transaction_id\": \"08c8d02c-b2dd-4291-b156-ca36351680bd\", \"timestamp\": \"2025-04-16T10:20:08.286639Z\", \"customer_id\": \"cust_286\", \"merchant_id\": \"merch_33\", \"merchant_category\": \"retail\", \"payment_method\": \"pos\", \"amount\": 1347306, \"location\": {\"lat\": 35.661430982781404, \"lng\": 51.286549436570404}, \"device_info\": {}, \"status\": \"approved\", \"commission_type\": \"flat\", \"commission_amount\": 26946, \"vat_amount\": 121257, \"total_amount\": 1495509, \"customer_type\": \"business\", \"risk_level\": 3, \"failure_reason\": null}'"
      ]
     },
     "metadata": {},
     "output_type": "display_data"
    },
    {
     "data": {
      "text/plain": [
       "'{\"transaction_id\": \"9197c810-a858-492b-93ea-25e9f8fbdd14\", \"timestamp\": \"2025-04-15T23:48:45.140568Z\", \"customer_id\": \"cust_133\", \"merchant_id\": \"merch_37\", \"merchant_category\": \"entertainment\", \"payment_method\": \"pos\", \"amount\": 1952359, \"location\": {\"lat\": 35.64665307688229, \"lng\": 51.41701895597471}, \"device_info\": {}, \"status\": \"approved\", \"commission_type\": \"flat\", \"commission_amount\": 39047, \"vat_amount\": 175712, \"total_amount\": 2167118, \"customer_type\": \"CIP\", \"risk_level\": 2, \"failure_reason\": null}'"
      ]
     },
     "metadata": {},
     "output_type": "display_data"
    }
   ],
   "source": [
    "broker = \"37.32.15.163:9092\"\n",
    "topic = \"darooghe.transactions\"\n",
    "group_id = f\"darooghe-demo-{uuid.uuid4()}\"\n",
    "c_config = {\n",
    "    \"bootstrap.servers\": broker,\n",
    "    \"group.id\": group_id,\n",
    "    \"auto.offset.reset\": \"earliest\"\n",
    "}\n",
    "consumer = Consumer(c_config)\n",
    "consumer.subscribe([topic])\n",
    "timeout_end = time.time() + 30\n",
    "msg_list = list()\n",
    "while time.time() < timeout_end and len(msg_list) <= 10:\n",
    "    msg = consumer.poll(1.0)\n",
    "    if msg and not msg.error():\n",
    "        display(msg.value().decode(\"utf-8\"))\n",
    "        msg_list.append(msg.value())\n",
    "consumer.close()"
   ]
  }
 ],
 "metadata": {
  "kernelspec": {
   "display_name": "base",
   "language": "python",
   "name": "python3"
  },
  "language_info": {
   "codemirror_mode": {
    "name": "ipython",
    "version": 3
   },
   "file_extension": ".py",
   "mimetype": "text/x-python",
   "name": "python",
   "nbconvert_exporter": "python",
   "pygments_lexer": "ipython3",
   "version": "3.12.7"
  }
 },
 "nbformat": 4,
 "nbformat_minor": 5
}
