{
 "cells": [
  {
   "cell_type": "code",
   "execution_count": 1,
   "metadata": {},
   "outputs": [],
   "source": [
    "from confluent_kafka import Consumer, KafkaError, TopicPartition\n",
    "import json\n",
    "import pandas as pd\n",
    "from IPython.display import display, clear_output\n",
    "import time"
   ]
  },
  {
   "cell_type": "code",
   "execution_count": null,
   "metadata": {},
   "outputs": [],
   "source": [
    "consumer_config = {\n",
    "    'bootstrap.servers': 'localhost:9092',  # Connect to Kafka running in Docker\n",
    "    'group.id': 'jupyter-consumer',         # Consumer group ID\n",
    "    'auto.offset.reset': 'earliest',        # Start reading from beginning of topic\n",
    "    'enable.auto.commit': True,             # Automatically commit offsets\n",
    "    'security.protocol': 'PLAINTEXT',\n",
    "    'client.id': 'jupyter-client'\n",
    "}"
   ]
  },
  {
   "cell_type": "code",
   "execution_count": 3,
   "metadata": {},
   "outputs": [],
   "source": [
    "def test_kafka_connection():\n",
    "    from confluent_kafka.admin import AdminClient\n",
    "\n",
    "    admin_client = AdminClient({'bootstrap.servers': 'localhost:9092'})\n",
    "    try:\n",
    "        topics = admin_client.list_topics(timeout=10)\n",
    "        print(\"Successfully connected to Kafka broker.\")\n",
    "        print(\"Available topics:\")\n",
    "        for topic in topics.topics:\n",
    "            print(f\" - {topic}\")\n",
    "        return True\n",
    "    except Exception as e:\n",
    "        print(f\"Failed to connect to Kafka: {e}\")\n",
    "        return False"
   ]
  },
  {
   "cell_type": "code",
   "execution_count": null,
   "metadata": {},
   "outputs": [],
   "source": [
    "def consume_batch(topic_name='darooghe.transactions', max_messages=100, timeout=1.0):\n",
    "    consumer = Consumer(consumer_config)\n",
    "    consumer.subscribe([topic_name])\n",
    "\n",
    "    messages = []\n",
    "    count = 0\n",
    "    start_time = time.time()\n",
    "\n",
    "    try:\n",
    "        while count < max_messages:\n",
    "            msg = consumer.poll(timeout)\n",
    "\n",
    "            if msg is None:\n",
    "                if time.time() - start_time > 10:\n",
    "                    print(\"No more messages received in the last 10 seconds.\")\n",
    "                    break\n",
    "                continue\n",
    "\n",
    "            if msg.error():\n",
    "                if msg.error().code() == KafkaError._PARTITION_EOF:\n",
    "                    continue\n",
    "                else:\n",
    "                    print(f\"Error: {msg.error()}\")\n",
    "                    break\n",
    "\n",
    "            transaction = json.loads(msg.value().decode('utf-8'))\n",
    "            messages.append(transaction)\n",
    "            count += 1\n",
    "            start_time = time.time()\n",
    "\n",
    "            if count % 10 == 0:\n",
    "                print(f\"Received {count} messages\")\n",
    "\n",
    "    except Exception as e:\n",
    "        print(f\"Error consuming messages: {e}\")\n",
    "    finally:\n",
    "        consumer.close()\n",
    "\n",
    "    return messages"
   ]
  },
  {
   "cell_type": "code",
   "execution_count": null,
   "metadata": {},
   "outputs": [],
   "source": [
    "def consume_continuous(topic_name='darooghe.transactions', timeout=1.0, max_display=10):\n",
    "    consumer = Consumer(consumer_config)\n",
    "    consumer.subscribe([topic_name])\n",
    "\n",
    "    recent_txns = []\n",
    "\n",
    "    try:\n",
    "        print(\"Starting continuous consumption... (Press Ctrl+C to stop)\")\n",
    "        while True:\n",
    "            msg = consumer.poll(timeout)\n",
    "\n",
    "            if msg is None:\n",
    "                continue\n",
    "\n",
    "            if msg.error():\n",
    "                if msg.error().code() == KafkaError._PARTITION_EOF:\n",
    "                    continue\n",
    "                else:\n",
    "                    print(f\"Error: {msg.error()}\")\n",
    "                    break\n",
    "\n",
    "            transaction = json.loads(msg.value().decode('utf-8'))\n",
    "\n",
    "            recent_txns.append(transaction)\n",
    "            if len(recent_txns) > max_display:\n",
    "                recent_txns = recent_txns[-max_display:]\n",
    "\n",
    "            clear_output(wait=True)\n",
    "            print(f\"Consuming messages from {topic_name}... (Press Ctrl+C to stop)\")\n",
    "            display(pd.DataFrame(recent_txns))\n",
    "\n",
    "    except KeyboardInterrupt:\n",
    "        print(\"\\nConsumption stopped by user\")\n",
    "    finally:\n",
    "        consumer.close()"
   ]
  },
  {
   "cell_type": "code",
   "execution_count": null,
   "metadata": {},
   "outputs": [],
   "source": [
    "def analyze_transactions(transactions):\n",
    "    if not transactions:\n",
    "        print(\"No transactions to analyze\")\n",
    "        return\n",
    "\n",
    "    df = pd.DataFrame(transactions)\n",
    "\n",
    "    print(f\"\\nAnalyzed {len(transactions)} transactions:\")\n",
    "    print(f\"Average amount: {df['amount'].mean():.2f}\")\n",
    "    print(f\"Total value: {df['amount'].sum():.2f}\")\n",
    "\n",
    "    print(\"\\nTransactions by status:\")\n",
    "    display(df['status'].value_counts())\n",
    "\n",
    "    print(\"\\nTransactions by merchant category:\")\n",
    "    display(df['merchant_category'].value_counts())\n",
    "\n",
    "    print(\"\\nTransactions by payment method:\")\n",
    "    display(df['payment_method'].value_counts())\n",
    "\n",
    "    print(\"\\nSample transactions:\")\n",
    "    display(df.head())\n",
    "\n",
    "    return df"
   ]
  },
  {
   "cell_type": "code",
   "execution_count": 7,
   "metadata": {},
   "outputs": [
    {
     "name": "stdout",
     "output_type": "stream",
     "text": [
      "Successfully connected to Kafka broker.\n",
      "Available topics:\n",
      " - __consumer_offsets\n"
     ]
    },
    {
     "data": {
      "text/plain": [
       "True"
      ]
     },
     "execution_count": 7,
     "metadata": {},
     "output_type": "execute_result"
    }
   ],
   "source": [
    "test_kafka_connection()"
   ]
  },
  {
   "cell_type": "code",
   "execution_count": 8,
   "metadata": {},
   "outputs": [
    {
     "name": "stderr",
     "output_type": "stream",
     "text": [
      "%3|1743299607.712|FAIL|jupyter-client#consumer-2| [thrd:GroupCoordinator]: GroupCoordinator: kafka:9092: Failed to resolve 'kafka:9092': Temporary failure in name resolution (after 10007ms in state CONNECT)\n"
     ]
    },
    {
     "name": "stdout",
     "output_type": "stream",
     "text": [
      "No more messages received in the last 10 seconds.\n",
      "No transactions to analyze\n"
     ]
    },
    {
     "name": "stderr",
     "output_type": "stream",
     "text": [
      "%3|1743299617.723|FAIL|jupyter-client#consumer-2| [thrd:GroupCoordinator]: GroupCoordinator: Failed to resolve 'kafka:9092': Temporary failure in name resolution (after 10010ms in state CONNECT)\n"
     ]
    }
   ],
   "source": [
    "# Consume 50 messages from the topic\n",
    "transactions = consume_batch(max_messages=50)\n",
    "\n",
    "# Analyze the consumed transactions\n",
    "df = analyze_transactions(transactions)"
   ]
  }
 ],
 "metadata": {
  "kernelspec": {
   "display_name": "Python 3",
   "language": "python",
   "name": "python3"
  },
  "language_info": {
   "codemirror_mode": {
    "name": "ipython",
    "version": 3
   },
   "file_extension": ".py",
   "mimetype": "text/x-python",
   "name": "python",
   "nbconvert_exporter": "python",
   "pygments_lexer": "ipython3",
   "version": "3.10.12"
  }
 },
 "nbformat": 4,
 "nbformat_minor": 2
}
